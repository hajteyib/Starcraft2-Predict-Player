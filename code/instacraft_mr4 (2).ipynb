{
  "cells": [
    {
      "cell_type": "code",
      "execution_count": null,
      "metadata": {
        "colab": {
          "base_uri": "https://localhost:8080/"
        },
        "id": "TQMtOqUZW9YQ",
        "outputId": "23339070-fd95-4e41-c741-9b299011eff1"
      },
      "outputs": [
        {
          "output_type": "stream",
          "name": "stdout",
          "text": [
            "Mounted at /content/drive\n"
          ]
        }
      ],
      "source": [
        "from google.colab import drive\n",
        "\n",
        "\n",
        "\n",
        "drive.mount('/content/drive')"
      ]
    },
    {
      "cell_type": "code",
      "source": [],
      "metadata": {
        "id": "OmH3Jlsgtxyv"
      },
      "execution_count": null,
      "outputs": []
    },
    {
      "cell_type": "code",
      "execution_count": null,
      "metadata": {
        "id": "_YipIeroW5BO"
      },
      "outputs": [],
      "source": [
        "import csv\n",
        "import re\n",
        "import numpy as np\n",
        "import pandas as pd\n",
        "from collections import Counter\n",
        "import pickle\n",
        "\n",
        "from sklearn.model_selection import train_test_split, RandomizedSearchCV, cross_val_score\n",
        "from sklearn.ensemble import RandomForestClassifier\n",
        "from sklearn.metrics import accuracy_score, make_scorer\n",
        "from scipy.stats import randint, uniform\n"
      ]
    },
    {
      "cell_type": "code",
      "execution_count": null,
      "metadata": {
        "id": "B4EOenjtXaec",
        "colab": {
          "base_uri": "https://localhost:8080/",
          "height": 216
        },
        "outputId": "63145e12-c679-4ddb-86c8-74b37632bb42"
      },
      "outputs": [
        {
          "output_type": "error",
          "ename": "FileNotFoundError",
          "evalue": "[Errno 2] No such file or directory: '/content/drive/MyDrive/TRAIN.csv'",
          "traceback": [
            "\u001b[0;31m---------------------------------------------------------------------------\u001b[0m",
            "\u001b[0;31mFileNotFoundError\u001b[0m                         Traceback (most recent call last)",
            "\u001b[0;32m<ipython-input-1-81d21e8c6dab>\u001b[0m in \u001b[0;36m<cell line: 0>\u001b[0;34m()\u001b[0m\n\u001b[1;32m      2\u001b[0m \u001b[0;34m\u001b[0m\u001b[0m\n\u001b[1;32m      3\u001b[0m \u001b[0mplayers\u001b[0m\u001b[0;34m,\u001b[0m \u001b[0mraces\u001b[0m\u001b[0;34m,\u001b[0m \u001b[0mactions_list\u001b[0m \u001b[0;34m=\u001b[0m \u001b[0;34m[\u001b[0m\u001b[0;34m]\u001b[0m\u001b[0;34m,\u001b[0m \u001b[0;34m[\u001b[0m\u001b[0;34m]\u001b[0m\u001b[0;34m,\u001b[0m \u001b[0;34m[\u001b[0m\u001b[0;34m]\u001b[0m\u001b[0;34m\u001b[0m\u001b[0;34m\u001b[0m\u001b[0m\n\u001b[0;32m----> 4\u001b[0;31m \u001b[0;32mwith\u001b[0m \u001b[0mopen\u001b[0m\u001b[0;34m(\u001b[0m\u001b[0mfile_train\u001b[0m\u001b[0;34m,\u001b[0m \u001b[0;34m\"r\"\u001b[0m\u001b[0;34m,\u001b[0m \u001b[0mencoding\u001b[0m\u001b[0;34m=\u001b[0m\u001b[0;34m\"utf-8\"\u001b[0m\u001b[0;34m)\u001b[0m \u001b[0;32mas\u001b[0m \u001b[0mf\u001b[0m\u001b[0;34m:\u001b[0m\u001b[0;34m\u001b[0m\u001b[0;34m\u001b[0m\u001b[0m\n\u001b[0m\u001b[1;32m      5\u001b[0m     \u001b[0mreader\u001b[0m \u001b[0;34m=\u001b[0m \u001b[0mcsv\u001b[0m\u001b[0;34m.\u001b[0m\u001b[0mreader\u001b[0m\u001b[0;34m(\u001b[0m\u001b[0mf\u001b[0m\u001b[0;34m)\u001b[0m\u001b[0;34m\u001b[0m\u001b[0;34m\u001b[0m\u001b[0m\n\u001b[1;32m      6\u001b[0m     \u001b[0;32mfor\u001b[0m \u001b[0mrow\u001b[0m \u001b[0;32min\u001b[0m \u001b[0mreader\u001b[0m\u001b[0;34m:\u001b[0m\u001b[0;34m\u001b[0m\u001b[0;34m\u001b[0m\u001b[0m\n",
            "\u001b[0;31mFileNotFoundError\u001b[0m: [Errno 2] No such file or directory: '/content/drive/MyDrive/TRAIN.csv'"
          ]
        }
      ],
      "source": [
        "file_train = '/content/drive/MyDrive/TRAIN.csv'\n",
        "\n",
        "players, races, actions_list = [], [], []\n",
        "with open(file_train, \"r\", encoding=\"utf-8\") as f:\n",
        "    reader = csv.reader(f)\n",
        "    for row in reader:\n",
        "        if len(row)<2:\n",
        "            continue\n",
        "        players.append(row[0])\n",
        "        races.append(row[1])\n",
        "        actions_list.append(row[2:])\n",
        "\n",
        "df = pd.DataFrame({\"player\":players, \"race\":races, \"actions\":actions_list})\n",
        "\n"
      ]
    },
    {
      "cell_type": "code",
      "execution_count": null,
      "metadata": {
        "id": "t3BlLJuDXmJn"
      },
      "outputs": [],
      "source": [
        "def remove_time_markers(seq):\n",
        "    return [x for x in seq if not re.match(r\"^t\\d+$\", x)]\n",
        "\n",
        "df[\"actions_clean\"] = df[\"actions\"].apply(remove_time_markers)\n",
        "\n",
        "def get_last_time(seq):\n",
        "    tmax = 0\n",
        "    for x in seq:\n",
        "        m = re.match(r\"^t(\\d+)$\", x)\n",
        "        if m:\n",
        "            val = int(m.group(1))\n",
        "            if val>tmax:\n",
        "                tmax = val\n",
        "    return tmax\n",
        "\n",
        "df[\"last_time\"] = df[\"actions\"].apply(get_last_time)\n",
        "\n",
        "df[\"action_counter\"] = df[\"actions_clean\"].apply(Counter)\n"
      ]
    },
    {
      "cell_type": "code",
      "source": [],
      "metadata": {
        "id": "cA_IuJYgtzs1"
      },
      "execution_count": null,
      "outputs": []
    },
    {
      "cell_type": "code",
      "execution_count": null,
      "metadata": {
        "id": "hYzx1YTiX6ii"
      },
      "outputs": [],
      "source": [
        "all_actions = Counter()\n",
        "for c in df[\"action_counter\"]:\n",
        "    all_actions.update(c.keys())\n",
        "\n",
        "MIN_REPLAYS = 5\n",
        "action_presence_count = Counter()\n",
        "for a in all_actions:\n",
        "    presence = df[\"action_counter\"].apply(lambda x: a in x).sum()\n",
        "    action_presence_count[a] = presence\n",
        "\n",
        "filtered_actions = [a for (a, cnt) in action_presence_count.items() if cnt>=MIN_REPLAYS]\n",
        "\n",
        "def to_freq_vector(counter_obj, actions_kept):\n",
        "    total_count = sum(counter_obj.values())\n",
        "    if total_count==0:\n",
        "        return [0]*len(actions_kept)\n",
        "    else:\n",
        "        return [counter_obj.get(a,0)/total_count for a in actions_kept]\n",
        "\n",
        "X_list = []\n",
        "for c in df[\"action_counter\"]:\n",
        "    X_list.append(to_freq_vector(c, filtered_actions))\n",
        "X_bag = pd.DataFrame(X_list, columns=filtered_actions)\n"
      ]
    },
    {
      "cell_type": "code",
      "execution_count": null,
      "metadata": {
        "id": "YYVWSpjvYLXW"
      },
      "outputs": [],
      "source": [
        "df[\"total_actions\"] = df[\"action_counter\"].apply(lambda cnt: sum(cnt.values()))\n",
        "df[\"distinct_actions\"] = df[\"action_counter\"].apply(lambda cnt: len(cnt))\n",
        "df[\"ratio_distinct\"] = df.apply(lambda row: row[\"distinct_actions\"]/row[\"total_actions\"]\n",
        "                                if row[\"total_actions\"]>0 else 0, axis=1)\n",
        "\n",
        "def entropy_actions(c):\n",
        "    tot = sum(c.values())\n",
        "    if tot==0: return 0\n",
        "    ent = 0\n",
        "    for a in c:\n",
        "        p = c[a]/tot\n",
        "        ent -= p*np.log2(p)\n",
        "    return ent\n",
        "df[\"entropy\"] = df[\"action_counter\"].apply(entropy_actions)\n",
        "\n",
        "def compute_apm(row):\n",
        "    if row[\"last_time\"]>0:\n",
        "        return row[\"total_actions\"]/ (row[\"last_time\"]/60)\n",
        "    else:\n",
        "        return 0\n",
        "df[\"apm\"] = df.apply(compute_apm, axis=1)\n",
        "\n",
        "X_misc = df[[\"total_actions\",\"distinct_actions\",\"ratio_distinct\",\"entropy\",\"apm\"]]\n",
        "\n",
        "race_dummies = pd.get_dummies(df[\"race\"], prefix=\"race\")\n",
        "\n",
        "X = pd.concat([X_bag, X_misc, race_dummies], axis=1)\n",
        "\n",
        "players_unique = df[\"player\"].unique()\n",
        "player_to_id = {p:i for i,p in enumerate(players_unique)}\n",
        "id_to_player = {v:k for k,v in player_to_id.items()}\n",
        "y = df[\"player\"].map(player_to_id)\n",
        "\n"
      ]
    },
    {
      "cell_type": "markdown",
      "source": [],
      "metadata": {
        "id": "Uf9HmAcJBmrx"
      }
    },
    {
      "cell_type": "code",
      "execution_count": null,
      "metadata": {
        "id": "G8Y8T15bE6Wb"
      },
      "outputs": [],
      "source": [
        "X_train, X_val, y_train, y_val = train_test_split(\n",
        "    X, y, test_size=0.2, random_state=42, stratify=y\n",
        ")\n"
      ]
    },
    {
      "cell_type": "code",
      "execution_count": null,
      "metadata": {
        "colab": {
          "background_save": true,
          "base_uri": "https://localhost:8080/"
        },
        "id": "UQsIKVn-YYx-",
        "outputId": "685cc43f-5139-4463-9ea2-8d8a5b052170"
      },
      "outputs": [
        {
          "name": "stdout",
          "output_type": "stream",
          "text": [
            "Fitting 5 folds for each of 20 candidates, totalling 100 fits\n"
          ]
        },
        {
          "name": "stderr",
          "output_type": "stream",
          "text": [
            "/usr/local/lib/python3.11/dist-packages/sklearn/model_selection/_split.py:805: UserWarning: The least populated class in y has only 4 members, which is less than n_splits=5.\n",
            "  warnings.warn(\n"
          ]
        },
        {
          "name": "stdout",
          "output_type": "stream",
          "text": [
            "Meilleurs paramètres trouvés : {'max_depth': 44, 'max_features': 'log2', 'min_samples_leaf': 1, 'n_estimators': 213}\n",
            "Meilleur score CV : 0.8997316948834214\n"
          ]
        }
      ],
      "source": [
        "\n",
        "param_dist = {\n",
        "    \"n_estimators\": randint(50, 300),\n",
        "    \"max_depth\": randint(10, 50),\n",
        "    \"min_samples_leaf\": randint(1, 5),\n",
        "    \"max_features\": [\"sqrt\", \"log2\", 0.3, 0.5]\n",
        "}\n",
        "\n",
        "rf_model = RandomForestClassifier(random_state=42)\n",
        "\n",
        "random_search = RandomizedSearchCV(\n",
        "    estimator=rf_model,\n",
        "    param_distributions=param_dist,\n",
        "    n_iter=20,\n",
        "    scoring=\"accuracy\",\n",
        "    cv=5,\n",
        "    verbose=1,\n",
        "    random_state=42,\n",
        "    n_jobs=-1\n",
        ")\n",
        "\n",
        "random_search.fit(X, y)\n",
        "\n",
        "print(\"Meilleurs paramètres trouvés :\", random_search.best_params_)\n",
        "print(\"Meilleur score CV :\", random_search.best_score_)\n",
        "\n",
        "best_rf = random_search.best_estimator_\n"
      ]
    },
    {
      "cell_type": "code",
      "execution_count": null,
      "metadata": {
        "colab": {
          "base_uri": "https://localhost:8080/"
        },
        "id": "YSiQAOLcYma5",
        "outputId": "b9100c0a-964f-479e-d30d-447e8e06332b"
      },
      "outputs": [
        {
          "output_type": "stream",
          "name": "stdout",
          "text": [
            "Modèle final sauvegardé. Score CV ~ 0.8997316948834214\n"
          ]
        }
      ],
      "source": [
        "mappings = {\n",
        "    \"filtered_actions\": filtered_actions,\n",
        "    \"player_to_id\": player_to_id,\n",
        "    \"id_to_player\": id_to_player,\n",
        "    \"X_columns\": X.columns\n",
        "}\n",
        "\n",
        "with open(\"model_rf.pkl\",\"wb\") as f:\n",
        "    pickle.dump(best_rf, f)\n",
        "\n",
        "with open(\"mappings.pkl\",\"wb\") as f:\n",
        "    pickle.dump(mappings, f)\n",
        "\n",
        "print(\"Modèle final sauvegardé. Score CV ~\", random_search.best_score_)"
      ]
    },
    {
      "cell_type": "code",
      "source": [],
      "metadata": {
        "id": "ma-iqqTVt-PU"
      },
      "execution_count": null,
      "outputs": []
    },
    {
      "cell_type": "code",
      "execution_count": null,
      "metadata": {
        "colab": {
          "base_uri": "https://localhost:8080/"
        },
        "id": "LmCuo1LOazaJ",
        "outputId": "86412aa8-9c1a-452f-ed35-6d17bd58da9c"
      },
      "outputs": [
        {
          "output_type": "stream",
          "name": "stdout",
          "text": [
            "Submission ready: 340 lines.\n"
          ]
        }
      ],
      "source": [
        "import csv\n",
        "import re\n",
        "import numpy as np\n",
        "import pandas as pd\n",
        "from collections import Counter\n",
        "import pickle\n",
        "\n",
        "def remove_time_markers(seq):\n",
        "    return [x for x in seq if not re.match(r\"^t\\d+$\", x)]\n",
        "\n",
        "def get_last_time(seq):\n",
        "    tmax = 0\n",
        "    for x in seq:\n",
        "        m = re.match(r\"^t(\\d+)$\", x)\n",
        "        if m:\n",
        "            val = int(m.group(1))\n",
        "            if val>tmax:\n",
        "                tmax = val\n",
        "    return tmax\n",
        "\n",
        "def to_freq_vector(counter_obj, actions_kept):\n",
        "    total = sum(counter_obj.values())\n",
        "    if total==0:\n",
        "        return [0]*len(actions_kept)\n",
        "    else:\n",
        "        return [counter_obj.get(a,0)/total for a in actions_kept]\n",
        "\n",
        "def entropy_actions(c):\n",
        "    tot = sum(c.values())\n",
        "    if tot==0: return 0\n",
        "    ent = 0\n",
        "    for a in c:\n",
        "        p = c[a]/tot\n",
        "        ent -= p*np.log2(p)\n",
        "    return ent\n",
        "\n",
        "def compute_apm(total_actions, last_time):\n",
        "    if last_time>0:\n",
        "        return total_actions/(last_time/60)\n",
        "    else:\n",
        "        return 0\n",
        "\n",
        "\n",
        "with open(\"model_rf.pkl\",\"rb\") as f:\n",
        "    best_rf = pickle.load(f)\n",
        "with open(\"mappings.pkl\",\"rb\") as f:\n",
        "    saved = pickle.load(f)\n",
        "\n",
        "filtered_actions = saved[\"filtered_actions\"]\n",
        "id_to_player = saved[\"id_to_player\"]\n",
        "X_columns = saved[\"X_columns\"]\n",
        "\n",
        "file_test = '/content/drive/MyDrive/TEST.CSV'\n",
        "races_test, actions_test = [], []\n",
        "with open(file_test,\"r\",encoding=\"utf-8\") as f:\n",
        "    reader = csv.reader(f)\n",
        "    for row in reader:\n",
        "        if len(row)<1:\n",
        "            continue\n",
        "        race = row[0]\n",
        "        actions = row[1:]\n",
        "        races_test.append(race)\n",
        "        actions_test.append(actions)\n",
        "\n",
        "df_test = pd.DataFrame({\"race\":races_test, \"actions\":actions_test})\n",
        "\n",
        "df_test[\"actions_clean\"] = df_test[\"actions\"].apply(remove_time_markers)\n",
        "df_test[\"last_time\"] = df_test[\"actions\"].apply(get_last_time)\n",
        "df_test[\"action_counter\"] = df_test[\"actions_clean\"].apply(Counter)\n",
        "\n",
        "X_list_test = []\n",
        "for c in df_test[\"action_counter\"]:\n",
        "    X_list_test.append(to_freq_vector(c, filtered_actions))\n",
        "X_test_bag = pd.DataFrame(X_list_test, columns=filtered_actions)\n",
        "\n",
        "df_test[\"total_actions\"] = df_test[\"action_counter\"].apply(lambda c: sum(c.values()))\n",
        "df_test[\"distinct_actions\"] = df_test[\"action_counter\"].apply(lambda c: len(c))\n",
        "df_test[\"ratio_distinct\"] = df_test.apply(\n",
        "    lambda row: row[\"distinct_actions\"]/row[\"total_actions\"] if row[\"total_actions\"]>0 else 0, axis=1)\n",
        "df_test[\"entropy\"] = df_test[\"action_counter\"].apply(entropy_actions)\n",
        "df_test[\"apm\"] = df_test.apply(lambda row: compute_apm(row[\"total_actions\"], row[\"last_time\"]), axis=1)\n",
        "\n",
        "X_test_misc = df_test[[\"total_actions\",\"distinct_actions\",\"ratio_distinct\",\"entropy\",\"apm\"]]\n",
        "race_dummies_test = pd.get_dummies(df_test[\"race\"], prefix=\"race\")\n",
        "\n",
        "X_test_full = pd.concat([X_test_bag, X_test_misc, race_dummies_test], axis=1)\n",
        "X_test_full = X_test_full.reindex(columns=X_columns, fill_value=0)\n",
        "\n",
        "pred_ids = best_rf.predict(X_test_full)\n",
        "pred_players = [id_to_player[i] for i in pred_ids]\n",
        "\n",
        "submission = pd.DataFrame({\n",
        "    \"RowId\": range(1, len(pred_players)+1),\n",
        "    \"prediction\": pred_players\n",
        "})\n",
        "submission.to_csv(\"submission8_1.csv\", index=False)\n",
        "print(\"Submission ready:\", len(submission), \"lines.\")\n"
      ]
    },
    {
      "cell_type": "code",
      "source": [
        "import pandas as pd\n",
        "from sklearn.model_selection import train_test_split\n",
        "\n",
        "path = '/content/drive/MyDrive/machine_learning_pro/instarcraft/TRAIN.CSV'\n",
        "\n",
        "# Charger les données (seulement Joueur et Race)\n",
        "data2 = pd.read_csv(path, header=None, usecols=[0, 1], engine='python', on_bad_lines='skip')\n",
        "data2.columns = ['Joueur', 'Race']\n",
        "\n",
        "# Compter le nombre de matchs par joueur\n",
        "match_counts = data2['Joueur'].value_counts()\n",
        "\n",
        "# Définir un seuil pour les joueurs ayant un faible nombre de matchs\n",
        "seuil_min_matchs = 5  # Joueurs avec moins de 5 matchs sont considérés comme rares\n",
        "\n",
        "# Séparer les joueurs en deux groupes : ceux avec peu de matchs et ceux avec un nombre suffisant\n",
        "joueurs_rares = match_counts[match_counts < seuil_min_matchs].index\n",
        "joueurs_normaux = match_counts[match_counts >= seuil_min_matchs].index\n",
        "\n",
        "# Séparer les données en deux groupes selon les joueurs rares et normaux\n",
        "data_rares = data2[data2['Joueur'].isin(joueurs_rares)]\n",
        "data_normaux = data2[data2['Joueur'].isin(joueurs_normaux)]\n",
        "\n",
        "# 🔹 Afficher les joueurs ayant moins de `seuil_min_matchs` matchs\n",
        "print(\"\\nJoueurs ayant moins de\", seuil_min_matchs, \"matchs :\")\n",
        "print(data_rares.groupby(\"Joueur\").size().reset_index(name=\"Nombre de matchs\"))\n",
        "\n",
        "# Split des joueurs normaux en train et validation de manière classique\n",
        "train_normaux, val_normaux = train_test_split(data_normaux, test_size=0.2, random_state=42, stratify=data_normaux['Race'])\n",
        "\n",
        "# Split des joueurs rares pour s'assurer qu'ils sont bien répartis entre train et validation\n",
        "train_rares, val_rares = train_test_split(data_rares, test_size=0.5, random_state=42)\n",
        "\n",
        "# Combiner les ensembles pour obtenir les splits finaux\n",
        "train_final = pd.concat([train_normaux, train_rares])\n",
        "val_final = pd.concat([val_normaux, val_rares])\n",
        "\n",
        "# Vérification des proportions\n",
        "print(\"\\nNombre de joueurs uniques dans Train :\", train_final['Joueur'].nunique())\n",
        "print(\"Nombre de joueurs uniques dans Validation :\", val_final['Joueur'].nunique())\n"
      ],
      "metadata": {
        "colab": {
          "base_uri": "https://localhost:8080/"
        },
        "id": "lAYI-TqQwfUw",
        "outputId": "8f964e71-7911-4c75-8cf3-1323024db57d"
      },
      "execution_count": null,
      "outputs": [
        {
          "output_type": "stream",
          "name": "stdout",
          "text": [
            "\n",
            "Joueurs ayant moins de 5 matchs :\n",
            "                                               Joueur  Nombre de matchs\n",
            "0   http://eu.battle.net/sc2/en/profile/3434150/1/...                 4\n",
            "1   http://eu.battle.net/sc2/en/profile/4860568/1/...                 4\n",
            "2   http://kr.battle.net/sc2/en/profile/2340350/1/...                 4\n",
            "3   http://kr.battle.net/sc2/en/profile/2342299/1/...                 4\n",
            "4   http://kr.battle.net/sc2/en/profile/2342789/1/...                 4\n",
            "5   http://kr.battle.net/sc2/en/profile/2343183/1/...                 4\n",
            "6   http://kr.battle.net/sc2/en/profile/2343910/1/...                 4\n",
            "7   http://kr.battle.net/sc2/en/profile/2344602/1/...                 4\n",
            "8   http://kr.battle.net/sc2/en/profile/2344728/1/...                 4\n",
            "9   http://kr.battle.net/sc2/en/profile/2345102/1/...                 4\n",
            "10  http://kr.battle.net/sc2/en/profile/3488858/1/...                 4\n",
            "11  http://kr.battle.net/sc2/en/profile/4324250/1/...                 4\n",
            "12  http://kr.battle.net/sc2/en/profile/4529934/1/...                 4\n",
            "13  http://us.battle.net/sc2/en/profile/1640778/1/...                 4\n",
            "14  http://us.battle.net/sc2/en/profile/2060165/1/...                 4\n",
            "15  http://us.battle.net/sc2/en/profile/2192180/1/...                 4\n",
            "16  http://us.battle.net/sc2/en/profile/2768741/1/...                 4\n",
            "17  http://us.battle.net/sc2/en/profile/4176016/1/...                 4\n",
            "18  http://us.battle.net/sc2/en/profile/4580957/1/...                 4\n",
            "19  http://us.battle.net/sc2/en/profile/5495016/1/...                 4\n",
            "20     http://xx.battle.net/sc2/en/profile/405/1/MMA/                 4\n",
            "21  http://xx.battle.net/sc2/en/profile/406/1/INno...                 4\n",
            "22  http://xx.battle.net/sc2/en/profile/407/1/NaNiwa/                 4\n",
            "\n",
            "Nombre de joueurs uniques dans Train : 200\n",
            "Nombre de joueurs uniques dans Validation : 183\n"
          ]
        }
      ]
    },
    {
      "cell_type": "code",
      "source": [],
      "metadata": {
        "id": "EcJNCaZaz0xj"
      },
      "execution_count": null,
      "outputs": []
    }
  ],
  "metadata": {
    "colab": {
      "provenance": []
    },
    "kernelspec": {
      "display_name": "Python 3",
      "name": "python3"
    },
    "language_info": {
      "name": "python"
    }
  },
  "nbformat": 4,
  "nbformat_minor": 0
}