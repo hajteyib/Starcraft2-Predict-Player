{
  "nbformat": 4,
  "nbformat_minor": 0,
  "metadata": {
    "colab": {
      "provenance": []
    },
    "kernelspec": {
      "name": "python3",
      "display_name": "Python 3"
    },
    "language_info": {
      "name": "python"
    }
  },
  "cells": [
    {
      "cell_type": "code",
      "source": [
        "from google.colab import drive\n",
        "\n",
        "drive.mount('/content/drive')"
      ],
      "metadata": {
        "colab": {
          "base_uri": "https://localhost:8080/"
        },
        "id": "T9KnfFvNGen6",
        "outputId": "01c5c342-cf3d-4b45-834d-1fd11ef122ec"
      },
      "execution_count": null,
      "outputs": [
        {
          "output_type": "stream",
          "name": "stdout",
          "text": [
            "Drive already mounted at /content/drive; to attempt to forcibly remount, call drive.mount(\"/content/drive\", force_remount=True).\n"
          ]
        }
      ]
    },
    {
      "cell_type": "code",
      "source": [
        "\n",
        "import csv\n",
        "import re\n",
        "import numpy as np\n",
        "import pandas as pd\n",
        "from collections import Counter\n",
        "import pickle\n",
        "\n",
        "from sklearn.model_selection import train_test_split, RandomizedSearchCV\n",
        "from sklearn.ensemble import RandomForestClassifier\n",
        "from sklearn.metrics import accuracy_score\n",
        "from scipy.stats import randint, uniform\n",
        "import math"
      ],
      "metadata": {
        "id": "3RJVYyHyGlR7"
      },
      "execution_count": null,
      "outputs": []
    },
    {
      "cell_type": "code",
      "source": [
        "file_train = \"/content/drive/MyDrive/TRAIN.csv\"\n",
        "\n",
        "players, actions_list = [], []\n",
        "with open(file_train, \"r\", encoding=\"utf-8\") as f:\n",
        "    reader = csv.reader(f)\n",
        "    for row in reader:\n",
        "        # row[0] = player URL\n",
        "        # row[1] = race (ignoré)\n",
        "        # row[2:] = actions\n",
        "        if len(row) < 2:\n",
        "            continue\n",
        "        players.append(row[0])\n",
        "        actions_list.append(row[2:])  # on saute la race\n",
        "\n",
        "df = pd.DataFrame({\"player\": players, \"actions\": actions_list})\n"
      ],
      "metadata": {
        "id": "E2fYbA5BGno-"
      },
      "execution_count": null,
      "outputs": []
    },
    {
      "cell_type": "code",
      "source": [
        "def remove_time_markers(seq):\n",
        "    return [x for x in seq if not re.match(r'^t\\d+$', x)]\n",
        "\n",
        "df[\"actions_clean\"] = df[\"actions\"].apply(remove_time_markers)\n",
        "\n",
        "def get_last_time(seq):\n",
        "    tmax = 0\n",
        "    for x in seq:\n",
        "        m = re.match(r'^t(\\d+)$', x)\n",
        "        if m:\n",
        "            val = int(m.group(1))\n",
        "            if val>tmax:\n",
        "                tmax = val\n",
        "    return tmax\n",
        "\n",
        "df[\"last_time\"] = df[\"actions\"].apply(get_last_time)\n",
        "\n",
        "df[\"action_counter\"] = df[\"actions_clean\"].apply(Counter)\n",
        "\n",
        "# 1) Filtrer les actions trop rares\n",
        "all_actions = Counter()\n",
        "for c in df[\"action_counter\"]:\n",
        "    all_actions.update(c.keys())\n",
        "\n",
        "MIN_REPLAYS = 5\n",
        "action_presence_count = Counter()\n",
        "for a in all_actions:\n",
        "    presence = df[\"action_counter\"].apply(lambda x: a in x).sum()\n",
        "    action_presence_count[a] = presence\n",
        "\n",
        "filtered_actions = [a for (a, cnt) in action_presence_count.items() if cnt>=MIN_REPLAYS]\n",
        "\n",
        "def to_freq_vector(counter_obj, actions_kept):\n",
        "    total_count = sum(counter_obj.values())\n",
        "    if total_count==0:\n",
        "        return [0]*len(actions_kept)\n",
        "    else:\n",
        "        return [counter_obj.get(a,0)/total_count for a in actions_kept]\n",
        "\n",
        "X_list = []\n",
        "for c in df[\"action_counter\"]:\n",
        "    X_list.append(to_freq_vector(c, filtered_actions))\n",
        "X_bag = pd.DataFrame(X_list, columns=filtered_actions)\n"
      ],
      "metadata": {
        "id": "0JsTYd6pGreT"
      },
      "execution_count": null,
      "outputs": []
    },
    {
      "cell_type": "code",
      "source": [
        "df[\"total_actions\"] = df[\"action_counter\"].apply(lambda c: sum(c.values()))\n",
        "df[\"distinct_actions\"] = df[\"action_counter\"].apply(lambda c: len(c))\n",
        "df[\"ratio_distinct\"] = df.apply(lambda row:\n",
        "    row[\"distinct_actions\"]/row[\"total_actions\"] if row[\"total_actions\"]>0 else 0, axis=1)\n",
        "\n",
        "def entropy_actions(c):\n",
        "    tot = sum(c.values())\n",
        "    if tot==0:\n",
        "        return 0\n",
        "    ent = 0\n",
        "    for act, count in c.items():\n",
        "        p = count/tot\n",
        "        ent -= p*math.log2(p)\n",
        "    return ent\n",
        "\n",
        "df[\"entropy\"] = df[\"action_counter\"].apply(entropy_actions)\n",
        "\n",
        "def compute_apm(total_actions, last_time):\n",
        "    if last_time>0:\n",
        "        return total_actions/(last_time/60)\n",
        "    else:\n",
        "        return 0\n",
        "\n",
        "df[\"apm\"] = df.apply(lambda row: compute_apm(row[\"total_actions\"], row[\"last_time\"]), axis=1)\n",
        "\n",
        "X_misc = df[[\"total_actions\",\"distinct_actions\",\"ratio_distinct\",\"entropy\",\"apm\"]]\n",
        "\n",
        "# Concat bag-of-actions + features globales\n",
        "X = pd.concat([X_bag, X_misc], axis=1)\n"
      ],
      "metadata": {
        "id": "CFwDXvUHGvKc"
      },
      "execution_count": null,
      "outputs": []
    },
    {
      "cell_type": "code",
      "source": [
        "players_unique = df[\"player\"].unique()\n",
        "player_to_id = {p:i for i,p in enumerate(players_unique)}\n",
        "id_to_player = {v:k for k,v in player_to_id.items()}\n",
        "y = df[\"player\"].map(player_to_id)"
      ],
      "metadata": {
        "id": "-k2aci15Gznl"
      },
      "execution_count": null,
      "outputs": []
    },
    {
      "cell_type": "code",
      "source": [
        "X_train, X_val, y_train, y_val = train_test_split(\n",
        "    X, y, test_size=0.2, random_state=42, stratify=y\n",
        ")\n",
        "\n",
        "# -------------------------\n",
        "# F) RandomizedSearchCV\n",
        "# -------------------------\n",
        "param_dist = {\n",
        "    \"n_estimators\": randint(50, 300),\n",
        "    \"max_depth\": randint(10, 50),\n",
        "    \"min_samples_leaf\": randint(1, 5),\n",
        "    \"max_features\": [\"sqrt\", \"log2\", 0.3, 0.5]\n",
        "}\n",
        "\n",
        "rf_model = RandomForestClassifier(random_state=42)\n",
        "\n",
        "from sklearn.model_selection import RandomizedSearchCV\n",
        "random_search = RandomizedSearchCV(\n",
        "    estimator=rf_model,\n",
        "    param_distributions=param_dist,\n",
        "    n_iter=20,\n",
        "    scoring=\"accuracy\",\n",
        "    cv=5,\n",
        "    verbose=1,\n",
        "    random_state=42,\n",
        "    n_jobs=-1\n",
        ")\n",
        "random_search.fit(X_train, y_train)\n",
        "\n",
        "print(\"Meilleurs paramètres trouvés :\", random_search.best_params_)\n",
        "print(\"Meilleur score (CV) :\", random_search.best_score_)\n",
        "\n",
        "best_rf = random_search.best_estimator_\n",
        "\n",
        "# Évaluation sur la validation (hors CV)\n",
        "y_val_pred = best_rf.predict(X_val)\n",
        "val_acc = accuracy_score(y_val, y_val_pred)\n",
        "print(\"Accuracy sur le set de validation :\", val_acc)\n"
      ],
      "metadata": {
        "id": "JHamauxWG5yJ",
        "colab": {
          "base_uri": "https://localhost:8080/"
        },
        "outputId": "41e95d72-d898-4790-fbbb-265e8e94576b"
      },
      "execution_count": null,
      "outputs": [
        {
          "metadata": {
            "tags": null
          },
          "name": "stdout",
          "output_type": "stream",
          "text": [
            "Fitting 5 folds for each of 20 candidates, totalling 100 fits\n"
          ]
        },
        {
          "metadata": {
            "tags": null
          },
          "name": "stderr",
          "output_type": "stream",
          "text": [
            "/usr/local/lib/python3.11/dist-packages/sklearn/model_selection/_split.py:805: UserWarning: The least populated class in y has only 3 members, which is less than n_splits=5.\n",
            "  warnings.warn(\n"
          ]
        },
        {
          "output_type": "stream",
          "name": "stdout",
          "text": [
            "Meilleurs paramètres trouvés : {'max_depth': 44, 'max_features': 'log2', 'min_samples_leaf': 1, 'n_estimators': 213}\n",
            "Meilleur score (CV) : 0.9057762580039558\n",
            "Accuracy sur le set de validation : 0.9018003273322422\n"
          ]
        }
      ]
    },
    {
      "cell_type": "code",
      "execution_count": null,
      "metadata": {
        "colab": {
          "base_uri": "https://localhost:8080/"
        },
        "id": "JoPkwVuZF1DA",
        "outputId": "c9a1ed67-0a9f-4b0c-b485-4f33808e7836"
      },
      "outputs": [
        {
          "output_type": "stream",
          "name": "stdout",
          "text": [
            "Modèle sans race sauvegardé. Score CV ~ 0.9057762580039558\n",
            "Score validation : 0.9018003273322422\n"
          ]
        }
      ],
      "source": [
        "mappings = {\n",
        "    \"filtered_actions\": filtered_actions,\n",
        "    \"player_to_id\": player_to_id,\n",
        "    \"id_to_player\": id_to_player,\n",
        "    \"X_columns\": X.columns\n",
        "}\n",
        "\n",
        "with open(\"model_rf.pkl\",\"wb\") as f:\n",
        "    pickle.dump(best_rf, f)\n",
        "\n",
        "with open(\"mappings.pkl\",\"wb\") as f:\n",
        "    pickle.dump(mappings, f)\n",
        "\n",
        "print(\"Modèle sans race sauvegardé. Score CV ~\", random_search.best_score_)\n",
        "print(\"Score validation :\", val_acc)\n"
      ]
    },
    {
      "cell_type": "code",
      "source": [
        "import matplotlib.pyplot as plt\n",
        "import pandas as pd\n",
        "\n",
        "# Juste après :\n",
        "# best_rf = random_search.best_estimator_\n",
        "\n",
        "# 1) Récupérer les importances et les noms de features\n",
        "importances = best_rf.feature_importances_      # array de longueur len(X.columns)\n",
        "feature_names = X.columns                       # liste/Index des noms de colonnes\n",
        "\n",
        "# 2) Convertir en Series pour manipuler facilement\n",
        "feat_importances = pd.Series(importances, index=feature_names)\n",
        "\n",
        "# 3) Trier par ordre décroissant\n",
        "feat_importances_sorted = feat_importances.sort_values(ascending=False)\n",
        "\n",
        "# 4) Afficher, par exemple, le top 20\n",
        "top_n = 20\n",
        "feat_importances_sorted.head(top_n).plot(kind='bar', figsize=(10,6), color='skyblue')\n",
        "plt.title(f\"Top {top_n} Feature Importances (RandomForest)\")\n",
        "plt.xlabel(\"Feature\")\n",
        "plt.ylabel(\"Importance\")\n",
        "plt.xticks(rotation=45, ha=\"right\")\n",
        "plt.tight_layout()\n",
        "plt.show()\n",
        "\n",
        "# (Optionnel) Pour afficher toutes les colonnes, tu peux faire directement :\n",
        "# feat_importances_sorted.plot(kind='bar', figsize=(12,6))\n"
      ],
      "metadata": {
        "colab": {
          "base_uri": "https://localhost:8080/",
          "height": 560
        },
        "id": "-j25ty7oyx1Z",
        "outputId": "657cfd5f-c174-4996-fad5-0342805785e7"
      },
      "execution_count": null,
      "outputs": [
        {
          "output_type": "display_data",
          "data": {
            "text/plain": [
              "<Figure size 1000x600 with 1 Axes>"
            ],
            "image/png": "[encoded data removed]"
          },
          "metadata": {}
        }
      ]
    },
    {
      "cell_type": "code",
      "source": [
        "import csv\n",
        "import re\n",
        "import math\n",
        "import numpy as np\n",
        "import pandas as pd\n",
        "from collections import Counter\n",
        "import pickle\n",
        "\n",
        "from sklearn.ensemble import RandomForestClassifier\n",
        "\n",
        "with open(\"model_rf.pkl\",\"rb\") as f:\n",
        "    best_rf = pickle.load(f)\n",
        "with open(\"mappings.pkl\",\"rb\") as f:\n",
        "    saved = pickle.load(f)\n",
        "\n",
        "filtered_actions = saved[\"filtered_actions\"]\n",
        "id_to_player = saved[\"id_to_player\"]\n",
        "X_columns = saved[\"X_columns\"]\n",
        "\n",
        "def remove_time_markers(seq):\n",
        "    return [x for x in seq if not re.match(r'^t\\d+$', x)]\n",
        "\n",
        "def get_last_time(seq):\n",
        "    tmax = 0\n",
        "    for x in seq:\n",
        "        m = re.match(r'^t(\\d+)$', x)\n",
        "        if m:\n",
        "            val = int(m.group(1))\n",
        "            if val>tmax:\n",
        "                tmax = val\n",
        "    return tmax\n",
        "\n",
        "def to_freq_vector(counter_obj, actions_kept):\n",
        "    total_count = sum(counter_obj.values())\n",
        "    if total_count==0:\n",
        "        return [0]*len(actions_kept)\n",
        "    else:\n",
        "        return [counter_obj.get(a,0)/total_count for a in actions_kept]\n",
        "\n",
        "def entropy_actions(c):\n",
        "    tot = sum(c.values())\n",
        "    if tot==0:\n",
        "        return 0\n",
        "    ent = 0\n",
        "    for act, count in c.items():\n",
        "        p = count/tot\n",
        "        ent -= p*math.log2(p)\n",
        "    return ent\n",
        "\n",
        "def compute_apm(total_actions, last_time):\n",
        "    if last_time>0:\n",
        "        return total_actions/(last_time/60)\n",
        "    else:\n",
        "        return 0\n",
        "\n",
        "# Lire le TEST\n",
        "file_test = '/content/drive/MyDrive/TEST.CSV'\n",
        "\n",
        "actions_test = []\n",
        "with open(file_test,\"r\",encoding=\"utf-8\") as f:\n",
        "    reader = csv.reader(f)\n",
        "    for row in reader:\n",
        "        if len(row)<1:\n",
        "            continue\n",
        "        # row[0] = race (on ignore)\n",
        "        # row[1:] = actions\n",
        "        actions_test.append(row[1:])\n",
        "\n",
        "df_test = pd.DataFrame({\"actions\": actions_test})\n",
        "\n",
        "df_test[\"actions_clean\"] = df_test[\"actions\"].apply(remove_time_markers)\n",
        "df_test[\"last_time\"] = df_test[\"actions\"].apply(get_last_time)\n",
        "df_test[\"action_counter\"] = df_test[\"actions_clean\"].apply(Counter)\n",
        "\n",
        "# Bag-of-actions (fréquences)\n",
        "X_list_test = []\n",
        "for c in df_test[\"action_counter\"]:\n",
        "    X_list_test.append(to_freq_vector(c, filtered_actions))\n",
        "X_test_bag = pd.DataFrame(X_list_test, columns=filtered_actions)\n",
        "\n",
        "df_test[\"total_actions\"] = df_test[\"action_counter\"].apply(lambda c: sum(c.values()))\n",
        "df_test[\"distinct_actions\"] = df_test[\"action_counter\"].apply(lambda c: len(c))\n",
        "df_test[\"ratio_distinct\"] = df_test.apply(\n",
        "    lambda row: row[\"distinct_actions\"]/row[\"total_actions\"] if row[\"total_actions\"]>0 else 0,\n",
        "    axis=1\n",
        ")\n",
        "df_test[\"entropy\"] = df_test[\"action_counter\"].apply(entropy_actions)\n",
        "df_test[\"apm\"] = df_test.apply(\n",
        "    lambda row: compute_apm(row[\"total_actions\"], row[\"last_time\"]),\n",
        "    axis=1\n",
        ")\n",
        "\n",
        "X_test_misc = df_test[[\"total_actions\",\"distinct_actions\",\"ratio_distinct\",\"entropy\",\"apm\"]]\n",
        "\n",
        "# Concaténer\n",
        "X_test_full = pd.concat([X_test_bag, X_test_misc], axis=1)\n",
        "X_test_full = X_test_full.reindex(columns=X_columns, fill_value=0)\n",
        "\n",
        "pred_ids = best_rf.predict(X_test_full)\n",
        "pred_players = [id_to_player[i] for i in pred_ids]\n",
        "\n",
        "submission = pd.DataFrame({\n",
        "    \"RowId\": range(1, len(pred_players)+1),\n",
        "    \"prediction\": pred_players\n",
        "})\n",
        "submission.to_csv(\"submission_norace.csv\", index=False)\n",
        "print(\"Fichier submission_norace.csv créé :\", len(submission), \"lignes.\")\n"
      ],
      "metadata": {
        "colab": {
          "base_uri": "https://localhost:8080/"
        },
        "id": "D4Qx7FXVHCoQ",
        "outputId": "9005146b-8ebf-4d47-b316-36d48512da3d"
      },
      "execution_count": null,
      "outputs": [
        {
          "output_type": "stream",
          "name": "stdout",
          "text": [
            "Fichier submission_norace.csv créé : 340 lignes.\n"
          ]
        }
      ]
    }
  ]
}